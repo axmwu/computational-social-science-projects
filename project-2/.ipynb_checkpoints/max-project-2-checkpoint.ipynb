{
 "cells": [
  {
   "cell_type": "code",
   "execution_count": 3,
   "id": "56d8f57d",
   "metadata": {},
   "outputs": [],
   "source": [
    "# importing some libraries which will be used\n",
    "\n",
    "import pandas as pd\n",
    "import numpy as np\n",
    "import matplotlib.pyplot as plt\n",
    "%matplotlib inline\n",
    "import seaborn as sns\n",
    "\n",
    "# using a random seed to ensure consistent results while testing\n",
    "\n",
    "np.random.seed(887)"
   ]
  },
  {
   "cell_type": "code",
   "execution_count": 4,
   "id": "f7994dbe",
   "metadata": {},
   "outputs": [
    {
     "ename": "NameError",
     "evalue": "name 'Diabetes_with_Population_Info_by_County_2017' is not defined",
     "output_type": "error",
     "traceback": [
      "\u001b[1;31m---------------------------------------------------------------------------\u001b[0m",
      "\u001b[1;31mNameError\u001b[0m                                 Traceback (most recent call last)",
      "Cell \u001b[1;32mIn[4], line 4\u001b[0m\n\u001b[0;32m      1\u001b[0m \u001b[38;5;66;03m# read in and inspect data frame\u001b[39;00m\n\u001b[0;32m      2\u001b[0m \n\u001b[0;32m      3\u001b[0m \u001b[38;5;66;03m# \"CountyFips\" needs to be a string so the leading 0 isn't dropped (only if you want to make choropleth map) \u001b[39;00m\n\u001b[1;32m----> 4\u001b[0m diabetes \u001b[38;5;241m=\u001b[39m pd\u001b[38;5;241m.\u001b[39mread_csv(Diabetes_with_Population_Info_by_County_2017\u001b[38;5;241m.\u001b[39mcsv, \n\u001b[0;32m      5\u001b[0m                        dtype\u001b[38;5;241m=\u001b[39m{\u001b[38;5;124m\"\u001b[39m\u001b[38;5;124mCountyFIPS\u001b[39m\u001b[38;5;124m\"\u001b[39m: \u001b[38;5;28mstr\u001b[39m})\n",
      "\u001b[1;31mNameError\u001b[0m: name 'Diabetes_with_Population_Info_by_County_2017' is not defined"
     ]
    }
   ],
   "source": [
    "# read in and inspect data frame\n",
    "\n",
    "# \"CountyFips\" needs to be a string so the leading 0 isn't dropped (only if you want to make choropleth map) \n",
    "diabetes = pd.read_csv(Diabetes_with_Population_Info_by_County_2017.csv, \n",
    "                       dtype={\"CountyFIPS\": str}) "
   ]
  }
 ],
 "metadata": {
  "kernelspec": {
   "display_name": "Python 3 (ipykernel)",
   "language": "python",
   "name": "python3"
  },
  "language_info": {
   "codemirror_mode": {
    "name": "ipython",
    "version": 3
   },
   "file_extension": ".py",
   "mimetype": "text/x-python",
   "name": "python",
   "nbconvert_exporter": "python",
   "pygments_lexer": "ipython3",
   "version": "3.11.5"
  }
 },
 "nbformat": 4,
 "nbformat_minor": 5
}
